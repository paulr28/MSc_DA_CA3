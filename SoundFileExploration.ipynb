{
 "cells": [
  {
   "cell_type": "code",
   "execution_count": null,
   "metadata": {},
   "outputs": [],
   "source": [
    "#pip install resampy"
   ]
  },
  {
   "cell_type": "code",
   "execution_count": null,
   "metadata": {},
   "outputs": [],
   "source": [
    "#pip install pysoundfile"
   ]
  },
  {
   "cell_type": "code",
   "execution_count": 1,
   "metadata": {},
   "outputs": [],
   "source": [
    "import librosa\n",
    "import numpy as np\n",
    "import os"
   ]
  },
  {
   "cell_type": "code",
   "execution_count": 2,
   "metadata": {},
   "outputs": [],
   "source": [
    "# Define the path to the main dataset directory containing 'fold1' to 'fold10'\n",
    "dataset_dir = r'C:\\Users\\Paul\\Downloads\\Masters\\MSc_DA_CA3\\UrbanSound8K\\UrbanSound8K\\audio'\n",
    "\n",
    "# Create extract_features() function\n",
    "# This function will extract features from a single sound file, such as the MFCCs.\n",
    "# It takes 1 parameter:\n",
    "#     file_name: the path to the sound file\n",
    "# It returns 1 value:\n",
    "#     features: a numpy array of sound features\n",
    "\n",
    "def extract_features(file_path):\n",
    "    # Load the audio file\n",
    "    audio, _ = librosa.load(file_path, res_type='kaiser_fast')\n",
    "\n",
    "    # Extract features (e.g., Mel-frequency cepstral coefficients)\n",
    "    mfccs = librosa.feature.mfcc(y=audio, sr=22050, n_mfcc=13)\n",
    "\n",
    "    # Flatten the feature matrix\n",
    "    mfccs = np.mean(mfccs.T, axis=0)\n",
    "\n",
    "    return mfccs\n",
    "\n"
   ]
  },
  {
   "cell_type": "code",
   "execution_count": 3,
   "metadata": {},
   "outputs": [
    {
     "name": "stderr",
     "output_type": "stream",
     "text": [
      "c:\\Users\\Paul\\anaconda3\\lib\\site-packages\\librosa\\core\\spectrum.py:257: UserWarning: n_fft=2048 is too large for input signal of length=1103\n",
      "  warnings.warn(\n",
      "c:\\Users\\Paul\\anaconda3\\lib\\site-packages\\librosa\\core\\spectrum.py:257: UserWarning: n_fft=2048 is too large for input signal of length=1323\n",
      "  warnings.warn(\n",
      "c:\\Users\\Paul\\anaconda3\\lib\\site-packages\\librosa\\core\\spectrum.py:257: UserWarning: n_fft=2048 is too large for input signal of length=1523\n",
      "  warnings.warn(\n"
     ]
    }
   ],
   "source": [
    "# Process all audio files in the 'foldX' directories\n",
    "#THIS CAN TAKE UP TO 10 MINUTES TO RUN\n",
    "\n",
    "# Create an empty list of features\n",
    "feature_list = []\n",
    "\n",
    "# Get the list of folders in the main dataset directory\n",
    "for folder in os.listdir(dataset_dir):\n",
    "    if folder.startswith('fold'):\n",
    "        folder_path = os.path.join(dataset_dir, folder)\n",
    "        for file_name in os.listdir(folder_path):\n",
    "            if file_name.endswith('.wav'):\n",
    "                file_path = os.path.join(folder_path, file_name)\n",
    "                features = extract_features(file_path)\n",
    "                feature_list.append(features)"
   ]
  },
  {
   "cell_type": "code",
   "execution_count": 4,
   "metadata": {},
   "outputs": [
    {
     "name": "stdout",
     "output_type": "stream",
     "text": [
      "Number of feature vectors: 8732\n"
     ]
    }
   ],
   "source": [
    "# Examine the size of the feature list\n",
    "print('Number of feature vectors:', len(feature_list))"
   ]
  },
  {
   "cell_type": "code",
   "execution_count": 5,
   "metadata": {},
   "outputs": [
    {
     "name": "stdout",
     "output_type": "stream",
     "text": [
      "Feature vector length: 13\n"
     ]
    }
   ],
   "source": [
    "# Are the feature vectors all the same size?\n",
    "print('Feature vector length:', len(feature_list[0]))"
   ]
  },
  {
   "cell_type": "code",
   "execution_count": null,
   "metadata": {},
   "outputs": [],
   "source": []
  }
 ],
 "metadata": {
  "kernelspec": {
   "display_name": "base",
   "language": "python",
   "name": "python3"
  },
  "language_info": {
   "codemirror_mode": {
    "name": "ipython",
    "version": 3
   },
   "file_extension": ".py",
   "mimetype": "text/x-python",
   "name": "python",
   "nbconvert_exporter": "python",
   "pygments_lexer": "ipython3",
   "version": "3.10.9"
  },
  "orig_nbformat": 4
 },
 "nbformat": 4,
 "nbformat_minor": 2
}
